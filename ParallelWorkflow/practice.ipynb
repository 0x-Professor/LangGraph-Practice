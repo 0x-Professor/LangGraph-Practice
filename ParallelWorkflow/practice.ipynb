{
 "cells": [
  {
   "cell_type": "code",
   "execution_count": 3,
   "id": "ba1fc742",
   "metadata": {},
   "outputs": [],
   "source": [
    "from langchain_google_genai import ChatGoogleGenerativeAI\n",
    "from langgraph.graph import StateGraph, START, END\n",
    "from typing import TypedDict\n",
    "import tqdm as notebook_tqdm"
   ]
  },
  {
   "cell_type": "code",
   "execution_count": 18,
   "id": "6868d353",
   "metadata": {},
   "outputs": [],
   "source": [
    "class BatsmanState(TypedDict):\n",
    "    runs: int\n",
    "    balls: int\n",
    "    fours: int\n",
    "    sixes: int\n",
    "    strike_rate: float\n",
    "    balls_per_boundry: float\n",
    "    boundary_percentage: float  \n",
    "    summary: str"
   ]
  },
  {
   "cell_type": "code",
   "execution_count": 30,
   "id": "bc1ad3a0",
   "metadata": {},
   "outputs": [],
   "source": [
    "def calculate_strike_rate(state: BatsmanState) -> BatsmanState:\n",
    "    state[\"strike_rate\"] = (state[\"runs\"] / state[\"balls\"])*100\n",
    "    return {'strike_rate': state['strike_rate']}\n"
   ]
  },
  {
   "cell_type": "code",
   "execution_count": 20,
   "id": "69dd55d0",
   "metadata": {},
   "outputs": [],
   "source": [
    "def calculate_bpb(state: BatsmanState) -> BatsmanState:\n",
    "    state['balls_per_boundry'] = state['balls'] / (state['fours'] + state['sixes'])\n",
    "    return {\"balls_per_boundry\": state['balls_per_boundry']}    "
   ]
  },
  {
   "cell_type": "code",
   "execution_count": 21,
   "id": "7ca5fb58",
   "metadata": {},
   "outputs": [],
   "source": [
    "def calculate_boundary(state: BatsmanState) -> BatsmanState:\n",
    "    state['boundary_percentage'] = (((state['fours']* 4) + (state['sixes']* 6)) / state['runs'])*100\n",
    "    return {\"boundary_percentage\": state['boundary_percentage'] }"
   ]
  },
  {
   "cell_type": "code",
   "execution_count": 27,
   "id": "22205a2a",
   "metadata": {},
   "outputs": [],
   "source": [
    "def summary(state: BatsmanState):\n",
    "    summary =f\"\"\"Strike Rate: {state['strike_rate']:.2f}, Balls per boundary: {state['balls_per_boundry']:.2f}, Boundary percentage: {state['boundary_percentage']:.2f}\"\"\"  \n",
    "    state['summary'] = summary  \n",
    "    return {'summary': summary}"
   ]
  },
  {
   "cell_type": "code",
   "execution_count": 33,
   "id": "b56c51ae",
   "metadata": {},
   "outputs": [],
   "source": [
    "graph = StateGraph(BatsmanState)\n",
    "graph.add_node('calculate_strike_rate', calculate_strike_rate)\n",
    "graph.add_node('calculate_bpb', calculate_bpb)\n",
    "graph.add_node('calculate_boundary', calculate_boundary)\n",
    "graph.add_node('summary', summary)\n",
    "graph.add_edge(START, 'calculate_strike_rate')\n",
    "graph.add_edge(START, 'calculate_bpb')\n",
    "graph.add_edge(START, 'calculate_boundary')\n",
    "graph.add_edge('calculate_strike_rate', 'summary')\n",
    "graph.add_edge('calculate_bpb', 'summary')\n",
    "graph.add_edge('calculate_boundary', 'summary')\n",
    "graph.add_edge('summary', END)\n",
    "workflow =graph.compile()\n"
   ]
  },
  {
   "cell_type": "code",
   "execution_count": 34,
   "id": "e9109542",
   "metadata": {},
   "outputs": [
    {
     "name": "stdout",
     "output_type": "stream",
     "text": [
      "{'runs': 98, 'balls': 50, 'fours': 6, 'sixes': 4, 'strike_rate': 196.0, 'balls_per_boundry': 5.0, 'boundary_percentage': 48.97959183673469, 'summary': 'Strike Rate: 196.00, Balls per boundary: 5.00, Boundary percentage: 48.98'}\n"
     ]
    }
   ],
   "source": [
    "initial_state = {\n",
    "    \"runs\": 98,\n",
    "    \"balls\": 50,\n",
    "    \"fours\": 6,\n",
    "    \"sixes\": 4, \n",
    "    \n",
    "}\n",
    "final_state = workflow.invoke(initial_state)\n",
    "print(final_state)"
   ]
  }
 ],
 "metadata": {
  "kernelspec": {
   "display_name": "Python 3",
   "language": "python",
   "name": "python3"
  },
  "language_info": {
   "codemirror_mode": {
    "name": "ipython",
    "version": 3
   },
   "file_extension": ".py",
   "mimetype": "text/x-python",
   "name": "python",
   "nbconvert_exporter": "python",
   "pygments_lexer": "ipython3",
   "version": "3.13.2"
  }
 },
 "nbformat": 4,
 "nbformat_minor": 5
}
