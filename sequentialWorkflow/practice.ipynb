{
 "cells": [
  {
   "cell_type": "code",
   "execution_count": 11,
   "id": "a6f3e6a2",
   "metadata": {},
   "outputs": [],
   "source": [
    "from langchain_google_genai import ChatGoogleGenerativeAI\n",
    "from langgraph.graph import StateGraph, START, END\n",
    "from typing import TypedDict\n"
   ]
  },
  {
   "cell_type": "code",
   "execution_count": 21,
   "id": "d61c3acc",
   "metadata": {},
   "outputs": [],
   "source": [
    "\n",
    "class BMISTATE(TypedDict):\n",
    "    weight_kg: float\n",
    "    height_m: float\n",
    "    bmi: float\n",
    "    category: str"
   ]
  },
  {
   "cell_type": "code",
   "execution_count": 22,
   "id": "78eae006",
   "metadata": {},
   "outputs": [],
   "source": [
    "def calculate_bmi(state: BMISTATE) -> BMISTATE:\n",
    "    height = state['height_m']\n",
    "    weight = state['weight_kg']\n",
    "    bmi = weight / (height ** 2)\n",
    "    state['bmi'] = round(bmi, 2)\n",
    "    return state    "
   ]
  },
  {
   "cell_type": "code",
   "execution_count": 23,
   "id": "a38c9dff",
   "metadata": {},
   "outputs": [],
   "source": [
    "def classify_bmi(state: BMISTATE) -> BMISTATE:\n",
    "    if state['bmi'] < 18.5:\n",
    "        state['category'] = 'Underweight'\n",
    "    elif state['bmi'] < 25:\n",
    "        state['category'] = 'Normal weight'\n",
    "    elif state['bmi'] < 30:\n",
    "        state['category'] = 'Overweight'\n",
    "    else:\n",
    "        state['category'] = 'Obesity'\n",
    "    return state    "
   ]
  },
  {
   "cell_type": "code",
   "execution_count": 24,
   "id": "66490e02",
   "metadata": {},
   "outputs": [],
   "source": [
    "graph = StateGraph(BMISTATE)\n",
    "graph.add_node('calculate_bmi', calculate_bmi)\n",
    "graph.add_node('classify_bmi', classify_bmi)    \n",
    "graph.add_edge(START, 'calculate_bmi')\n",
    "graph.add_edge('calculate_bmi', 'classify_bmi')\n",
    "graph.add_edge('classify_bmi', END)\n",
    "\n",
    "workflow = graph.compile()\n"
   ]
  },
  {
   "cell_type": "code",
   "execution_count": 25,
   "id": "6c884b02",
   "metadata": {},
   "outputs": [
    {
     "data": {
      "text/plain": [
       "{'weight_kg': 70, 'height_m': 1.75, 'bmi': 22.86, 'category': 'Normal weight'}"
      ]
     },
     "execution_count": 25,
     "metadata": {},
     "output_type": "execute_result"
    }
   ],
   "source": [
    "workflow.invoke({\n",
    "    'weight_kg': 70,\n",
    "    'height_m': 1.75\n",
    "})\n"
   ]
  },
  {
   "cell_type": "code",
   "execution_count": 26,
   "id": "15c6a182",
   "metadata": {},
   "outputs": [
    {
     "data": {
      "image/png": "[encoded data removed]",
      "text/plain": [
       "<IPython.core.display.Image object>"
      ]
     },
     "execution_count": 26,
     "metadata": {},
     "output_type": "execute_result"
    }
   ],
   "source": [
    "from IPython.display import Image\n",
    "Image(workflow.get_graph().draw_mermaid_png())"
   ]
  }
 ],
 "metadata": {
  "kernelspec": {
   "display_name": "Python 3",
   "language": "python",
   "name": "python3"
  },
  "language_info": {
   "codemirror_mode": {
    "name": "ipython",
    "version": 3
   },
   "file_extension": ".py",
   "mimetype": "text/x-python",
   "name": "python",
   "nbconvert_exporter": "python",
   "pygments_lexer": "ipython3",
   "version": "3.13.2"
  }
 },
 "nbformat": 4,
 "nbformat_minor": 5
}
