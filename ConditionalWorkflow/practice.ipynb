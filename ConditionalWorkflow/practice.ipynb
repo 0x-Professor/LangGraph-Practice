{
 "cells": [
  {
   "cell_type": "code",
   "execution_count": null,
   "id": "b7d5b0dd",
   "metadata": {
    "vscode": {
     "languageId": "plaintext"
    }
   },
   "outputs": [],
   "source": [
    "from langgraph.graph import StateGraph, START, END\n",
    "from typing import TypedDict\n"
   ]
  }
 ],
 "metadata": {
  "language_info": {
   "name": "python"
  }
 },
 "nbformat": 4,
 "nbformat_minor": 5
}
