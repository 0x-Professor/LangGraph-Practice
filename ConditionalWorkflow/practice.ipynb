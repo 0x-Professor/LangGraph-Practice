{
 "cells": [
  {
   "cell_type": "code",
   "execution_count": 1,
   "id": "b7d5b0dd",
   "metadata": {},
   "outputs": [],
   "source": [
    "from langgraph.graph import StateGraph, START, END\n",
    "from typing import TypedDict\n"
   ]
  },
  {
   "cell_type": "code",
   "execution_count": 2,
   "id": "56d3d959",
   "metadata": {},
   "outputs": [],
   "source": [
    "class QuadState(TypedDict):\n",
    "    \"\"\"\n",
    "    Represents the state of a Quad game.\n",
    "    \"\"\"\n",
    "    a: int\n",
    "    b: int\n",
    "    c: int\n",
    "    equation: str\n",
    "    discriminant: float\n",
    "    result: str"
   ]
  },
  {
   "cell_type": "code",
   "execution_count": 9,
   "id": "f4a9b48c",
   "metadata": {},
   "outputs": [],
   "source": [
    "def show_equation(state: QuadState) -> QuadState:\n",
    "    \"\"\"Displays the equation based on the current state.\"\"\"\n",
    "    equation = f\"{state['a']}x^2 + {state['b']}x + {state['c']} = 0\"\n",
    "    \n",
    "    return {'equation': equation}"
   ]
  },
  {
   "cell_type": "code",
   "execution_count": 10,
   "id": "1d2076f1",
   "metadata": {},
   "outputs": [],
   "source": [
    "def calculate_discriminant(state: QuadState) -> QuadState:\n",
    "    \"\"\"Calculates the discriminant of the quadratic equation.\"\"\"\n",
    "    a = state['a']\n",
    "    b = state['b']\n",
    "    c = state['c']\n",
    "    \n",
    "    discriminant = b**2 - 4*a*c\n",
    "    result = \"Real roots\" if discriminant >= 0 else \"Complex roots\"\n",
    "    \n",
    "    state['discriminant'] = discriminant\n",
    "    state['result'] = result\n",
    "    return {'discriminant': discriminant, 'result': result}"
   ]
  },
  {
   "cell_type": "code",
   "execution_count": 11,
   "id": "41929a45",
   "metadata": {},
   "outputs": [],
   "source": [
    "def real_roots(state: QuadState) -> QuadState:\n",
    "    \"\"\"Handles the case of real roots.\"\"\"\n",
    "    a = state['a']\n",
    "    b = state['b']\n",
    "    c = state['c']\n",
    "    \n",
    "    discriminant = state['discriminant']\n",
    "    root1 = (-b + discriminant**0.5) / (2*a)\n",
    "    root2 = (-b - discriminant**0.5) / (2*a)\n",
    "    \n",
    "    state['result'] = f\"Real roots: {root1}, {root2}\"\n",
    "    return {'result': state['result']}"
   ]
  },
  {
   "cell_type": "code",
   "execution_count": 12,
   "id": "a1a4a187",
   "metadata": {},
   "outputs": [],
   "source": [
    "def no_real_roots(state: QuadState) -> QuadState:\n",
    "    \"\"\"Handles the case of no real roots.\"\"\"\n",
    "    state['result'] = \"No real roots\"\n",
    "    return {'result': state['result']}"
   ]
  },
  {
   "cell_type": "code",
   "execution_count": 13,
   "id": "39167ef3",
   "metadata": {},
   "outputs": [],
   "source": [
    "def repeated_roots(state: QuadState) -> QuadState:\n",
    "    \"\"\"Handles the case of repeated roots.\"\"\"\n",
    "    a = state['a']\n",
    "    b = state['b']\n",
    "    \n",
    "    root = -b / (2*a)\n",
    "    state['result'] = f\"Repeated root: {root}\"\n",
    "    return {'result': state['result']}"
   ]
  },
  {
   "cell_type": "code",
   "execution_count": 14,
   "id": "d3089d81",
   "metadata": {},
   "outputs": [],
   "source": [
    "graph = StateGraph(QuadState)\n",
    "graph.add_node('show_equation', show_equation)\n",
    "graph.add_node('calculate_discriminant', calculate_discriminant)\n",
    "graph.add_node('real_roots', real_roots)\n",
    "graph.add_node('no_real_roots', no_real_roots)\n",
    "graph.add_node('repeated_roots', repeated_roots)\n",
    "graph.add_edge(START, 'show_equation')\n",
    "graph.add_edge('show_equation', 'calculate_discriminant')\n",
    "graph.add_edge('calculate_discriminant', END)\n",
    "workflow = graph.compile()"
   ]
  },
  {
   "cell_type": "code",
   "execution_count": 8,
   "id": "aa7ad492",
   "metadata": {},
   "outputs": [
    {
     "name": "stdout",
     "output_type": "stream",
     "text": [
      "{'a': 1, 'b': -3, 'c': 2, 'equation': '1x^2 + -3x + 2 = 0', 'discriminant': 1, 'result': 'Real roots'}\n"
     ]
    }
   ],
   "source": [
    "initial_state = QuadState(a=1, b=-3, c=2, equation='', discriminant=0.0, result='')\n",
    "result = workflow.invoke(initial_state)\n",
    "print(result)"
   ]
  }
 ],
 "metadata": {
  "kernelspec": {
   "display_name": "Python 3",
   "language": "python",
   "name": "python3"
  },
  "language_info": {
   "codemirror_mode": {
    "name": "ipython",
    "version": 3
   },
   "file_extension": ".py",
   "mimetype": "text/x-python",
   "name": "python",
   "nbconvert_exporter": "python",
   "pygments_lexer": "ipython3",
   "version": "3.13.2"
  }
 },
 "nbformat": 4,
 "nbformat_minor": 5
}
